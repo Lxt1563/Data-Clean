{
 "cells": [
  {
   "cell_type": "code",
   "execution_count": null,
   "metadata": {},
   "outputs": [],
   "source": [
    "import os\n",
    "import shutil\n",
    "\n",
    "# 合并多余序列文件夹并重命名为whole\n",
    "path=r\"D:\\gait-depression\\depression_4 - 副本\"\n",
    "for parent,dirname,filenames in os.walk(path):\n",
    "    lastdirname=os.path.split(parent)[-1]\n",
    "    # print(lastdirname)\n",
    "    if('h265' in lastdirname or 'avi' in lastdirname):\n",
    "        # print(parent)\n",
    "        filelist=os.listdir(parent)\n",
    "        seqnlist=[x for x in filelist if 'seqn' in x]\n",
    "        if(len(seqnlist)==1):\n",
    "            shutil.move(os.path.join(parent,seqnlist[0]),os.path.join(parent,'whole'))\n",
    "        elif(len(seqnlist)>1):\n",
    "            print(parent)\n",
    "            # save_path=os.path.join(parent,'whole')\n",
    "            for seqnname in seqnlist:\n",
    "                for dirn in ['faces','features','imgs','segs']:\n",
    "                    tmp_path=os.path.join(parent,seqnname,dirn)\n",
    "                    save_path=os.path.join(parent,'whole',dirn)\n",
    "                    if(not os.path.exists(save_path)):\n",
    "                        os.makedirs(save_path)\n",
    "                    # shutil.copy(tmp_path,os.path.join(save_path,dirn))\n",
    "                    for filename in os.listdir(tmp_path):\n",
    "                        if(not os.path.exists(os.path.join(save_path,filename))):\n",
    "                            shutil.copyfile(os.path.join(tmp_path,filename),os.path.join(save_path,filename))\n",
    "                        else:\n",
    "                            tmp_filename=\"{}_{}\".format(filename,seqnname)\n",
    "                            print('file exists {} , rename file {}'.format(os.path.join(save_path,filename),tmp_filename))\n",
    "                            shutil.copyfile(os.path.join(tmp_path,filename),os.path.join(save_path,tmp_filename))\n",
    "                shutil.rmtree(os.path.join(parent,seqnname))        \n",
    "                "
   ]
  },
  {
   "cell_type": "code",
   "execution_count": null,
   "metadata": {},
   "outputs": [],
   "source": []
  }
 ],
 "metadata": {
  "kernelspec": {
   "display_name": "Python 3.7.0 ('base')",
   "language": "python",
   "name": "python3"
  },
  "language_info": {
   "codemirror_mode": {
    "name": "ipython",
    "version": 3
   },
   "file_extension": ".py",
   "mimetype": "text/x-python",
   "name": "python",
   "nbconvert_exporter": "python",
   "pygments_lexer": "ipython3",
   "version": "3.7.0"
  },
  "orig_nbformat": 4,
  "vscode": {
   "interpreter": {
    "hash": "7538445a6124551e8e3ac615a818782c24ee730f377824a931990aae2d29dd95"
   }
  }
 },
 "nbformat": 4,
 "nbformat_minor": 2
}
