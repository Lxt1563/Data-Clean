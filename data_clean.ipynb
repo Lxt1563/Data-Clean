{
 "cells": [
  {
   "cell_type": "code",
   "execution_count": 4,
   "metadata": {},
   "outputs": [],
   "source": [
    "import os\n",
    "from tkinter import TOP\n",
    "import openpyxl\n",
    "import matplotlib.pyplot as plt\n",
    "import matplotlib.image as mpimg\n",
    "\n",
    "#定义同时删除imgs和segs函数\n",
    "def deletepic(path,start_size,end_index):\n",
    "    # print(end_index-start_size)\n",
    "    if(\"imgs\" in path):\n",
    "        print(\"imgs in path\")\n",
    "        path=path[:-5]\n",
    "    piclist=[]\n",
    "    for i in range(0,start_size):\n",
    "        piclist.append(i)\n",
    "    for i in range(end_index+1,end_index+300):\n",
    "        piclist.append(i)\n",
    "    for picname in piclist:\n",
    "        picname=str(picname)\n",
    "        while(len(picname)<8):\n",
    "            picname='0'+picname\n",
    "        if(len(picname)==8):\n",
    "            picpath=os.path.join(path,'imgs',picname+'.jpg')\n",
    "            if(os.path.exists(picpath)):\n",
    "                os.remove(picpath)\n",
    "            picpath=os.path.join(path,'segs',picname+'.png')\n",
    "            if(os.path.exists(picpath)):\n",
    "                os.remove(picpath)"
   ]
  },
  {
   "cell_type": "code",
   "execution_count": null,
   "metadata": {},
   "outputs": [],
   "source": [
    "#显示存在多个序列的文件\n",
    "new_path=r'D:\\gait-depression\\seqs2\\normal_extra\\1509048614180298759'\n",
    "#input your path\n",
    "for i in range(26):\n",
    "    new_dirlist=os.listdir(os.path.join(new_path,str(i)))\n",
    "    for new_dir in new_dirlist:\n",
    "        \n",
    "        new_seg_list=os.listdir(os.path.join(new_path,str(i),new_dir))\n",
    "        if(len(new_seg_list)>1):\n",
    "            \n",
    "            for root,dirs,filenames in os.walk(os.path.join(new_path,str(i),new_dir)):\n",
    "                if('imgs' in root):\n",
    "                    file_size=len(filenames)\n",
    "                    plt.figure(root.split('depression_extra')[-1][1:-5])\n",
    "                    \n",
    "                    filenames.sort()\n",
    "                    # print(filenames)\n",
    "                    if(len(filenames)<5):\n",
    "                        print('path file is less than 5: ',root)\n",
    "                    else:\n",
    "                        mid=int(len(filenames)/2)\n",
    "                        index_list=[0,1,2,3,4,mid-2,mid-1,mid,mid+1,mid+2,-5,-4,-3,-2,-1]\n",
    "                        for j in range(1,16):\n",
    "                            img=mpimg.imread(os.path.join(root,filenames[index_list[j-1]]))\n",
    "                            plt.subplot(3,5,j)\n",
    "                            plt.imshow(img)\n",
    "                        plt.title(root.split('depression_extra')[-1][1:-5],loc='left')\n",
    "                        figManager = plt.get_current_fig_manager()\n",
    "                        # figManager.window.showMaximized()\n",
    "                        plt.show()\n",
    "                        \n",
    "            print('multiple dir',str(i),new_dir,str(len(new_seg_list)))"
   ]
  },
  {
   "cell_type": "code",
   "execution_count": 24,
   "metadata": {},
   "outputs": [],
   "source": [
    "#数据清洗\n",
    "\n",
    "for i in range(20):\n",
    "    new_dirlist=os.listdir(os.path.join(new_path,str(i)))\n",
    "    for new_dir in new_dirlist:\n",
    "        new_seg_list=os.listdir(os.path.join(new_path,str(i),new_dir))\n",
    "        if(len(new_seg_list)>0):\n",
    "            for new_seg in new_seg_list:\n",
    "                #input dirname\n",
    "                if('587.h265'==new_dir):\n",
    "                    # print('115')\n",
    "                    deletepic(os.path.join(new_path,str(i),new_dir,new_seg),25,289)\n",
    "                elif('588.h265'==new_dir):\n",
    "                    # print('116')\n",
    "                    deletepic(os.path.join(new_path,str(i),new_dir,new_seg),16,250)\n",
    "                elif('589.h265'==new_dir):\n",
    "                    # print('117')\n",
    "                    deletepic(os.path.join(new_path,str(i),new_dir,new_seg),30,260)\n",
    "        "
   ]
  },
  {
   "cell_type": "code",
   "execution_count": null,
   "metadata": {},
   "outputs": [],
   "source": []
  }
 ],
 "metadata": {
  "interpreter": {
   "hash": "7538445a6124551e8e3ac615a818782c24ee730f377824a931990aae2d29dd95"
  },
  "kernelspec": {
   "display_name": "Python 3.7.0 ('base')",
   "language": "python",
   "name": "python3"
  },
  "language_info": {
   "codemirror_mode": {
    "name": "ipython",
    "version": 3
   },
   "file_extension": ".py",
   "mimetype": "text/x-python",
   "name": "python",
   "nbconvert_exporter": "python",
   "pygments_lexer": "ipython3",
   "version": "3.7.0"
  },
  "orig_nbformat": 4
 },
 "nbformat": 4,
 "nbformat_minor": 2
}
